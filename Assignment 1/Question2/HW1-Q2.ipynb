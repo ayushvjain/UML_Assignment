{
 "cells": [
  {
   "cell_type": "code",
   "execution_count": 3,
   "metadata": {},
   "outputs": [],
   "source": [
    "import requests"
   ]
  },
  {
   "cell_type": "code",
   "execution_count": 7,
   "metadata": {},
   "outputs": [
    {
     "name": "stdout",
     "output_type": "stream",
     "text": [
      "Sparse ARFF file created at sparse_data.arff\n"
     ]
    }
   ],
   "source": [
    "# Define file paths\n",
    "input_path = 'kosarak.dat'     # Path to your input dataset file\n",
    "output_path = 'sparse_data.arff'  # Path to save the ARFF file\n",
    "\n",
    "# Read the dataset from the korsak.dat file\n",
    "with open(input_path, 'r') as file:\n",
    "    lines = file.readlines()\n",
    "\n",
    "# Convert the dataset into a list of rows of integers\n",
    "dataset = [list(map(int, line.split())) for line in lines if line.strip()]\n",
    "\n",
    "# Convert the dataset into sparse ARFF format strings\n",
    "lines_arff = []\n",
    "lines_arff.append('@relation sparse_data')\n",
    "\n",
    "# Define the attributes (assuming a large number of numeric attributes)\n",
    "num_attributes = 150  # Number of potential numeric attributes\n",
    "for i in range(1, num_attributes + 1):\n",
    "    lines_arff.append(f'@attribute attr{i} numeric')\n",
    "\n",
    "lines_arff.append('@data')\n",
    "\n",
    "# For each row in the dataset\n",
    "for row in dataset:\n",
    "    # Represent each row in sparse format as index-value pairs\n",
    "    sparse_row = [f\"{index + 1}:{value}\" for index, value in enumerate(row)]\n",
    "    lines_arff.append(' '.join(sparse_row))\n",
    "\n",
    "# Save these lines to the ARFF file\n",
    "with open(output_path, 'w') as arff_file:\n",
    "    for line in lines_arff:\n",
    "        arff_file.write(line + '\\n')\n",
    "\n",
    "print(f\"Sparse ARFF file created at {output_path}\")\n"
   ]
  },
  {
   "cell_type": "code",
   "execution_count": 1,
   "metadata": {},
   "outputs": [],
   "source": [
    "import time"
   ]
  },
  {
   "cell_type": "code",
   "execution_count": 5,
   "metadata": {},
   "outputs": [],
   "source": [
    "def read_input_file(input_path):\n",
    "    \"\"\"Reads the input file and returns a list of transactions.\"\"\"\n",
    "    with open(input_path, 'r') as file:\n",
    "        return [line.strip().split() for line in file]\n",
    "\n",
    "def create_sparse_arff(transactions, output_path):\n",
    "    \"\"\"Creates a sparse ARFF file from transactions.\"\"\"\n",
    "    # Collect unique items\n",
    "    items = sorted(set(item for transaction in transactions for item in transaction))\n",
    "    item_to_index = {item: idx for idx, item in enumerate(items)}\n",
    "\n",
    "    # ARFF Header\n",
    "    with open(output_path, 'w') as arff_file:\n",
    "        arff_file.write(\"@RELATION kosarak\\n\\n\")\n",
    "        for item in items:\n",
    "            arff_file.write(f\"@ATTRIBUTE {item} {{0, 1}}\\n\")\n",
    "        arff_file.write(\"\\n@DATA\\n\")\n",
    "\n",
    "        # Write data in sparse format\n",
    "        for transaction in transactions:\n",
    "            indices = [item_to_index[item] for item in transaction if item in item_to_index]\n",
    "            sparse_representation = \"{\" + \",\".join(f\"{idx} 1\" for idx in sorted(indices)) + \"}\"\n",
    "            arff_file.write(sparse_representation + \"\\n\")\n",
    "\n",
    "def convert_to_sparse_arff(input_path, output_path):\n",
    "    \"\"\"Converts a transaction dataset to a sparse ARFF file.\"\"\"\n",
    "    transactions = read_input_file(input_path)\n",
    "    create_sparse_arff(transactions, output_path)\n",
    "\n",
    "# Example usage\n",
    "input_file = \"kosarak.dat\"\n",
    "output_file = \"kosarak.arff\"\n",
    "convert_to_sparse_arff(input_file, output_file)\n"
   ]
  },
  {
   "cell_type": "code",
   "execution_count": 4,
   "metadata": {},
   "outputs": [
    {
     "ename": "KeyboardInterrupt",
     "evalue": "",
     "output_type": "error",
     "traceback": [
      "\u001b[1;31m---------------------------------------------------------------------------\u001b[0m",
      "\u001b[1;31mKeyboardInterrupt\u001b[0m                         Traceback (most recent call last)",
      "Cell \u001b[1;32mIn[4], line 3\u001b[0m\n\u001b[0;32m      1\u001b[0m input_file \u001b[38;5;241m=\u001b[39m \u001b[38;5;124m\"\u001b[39m\u001b[38;5;124mkosarak.dat\u001b[39m\u001b[38;5;124m\"\u001b[39m\n\u001b[0;32m      2\u001b[0m output_file \u001b[38;5;241m=\u001b[39m \u001b[38;5;124m\"\u001b[39m\u001b[38;5;124mkosarak.arff\u001b[39m\u001b[38;5;124m\"\u001b[39m\n\u001b[1;32m----> 3\u001b[0m \u001b[43mconvert_to_sparse_arff\u001b[49m\u001b[43m(\u001b[49m\u001b[43minput_file\u001b[49m\u001b[43m,\u001b[49m\u001b[43m \u001b[49m\u001b[43moutput_file\u001b[49m\u001b[43m)\u001b[49m\n",
      "Cell \u001b[1;32mIn[2], line 27\u001b[0m, in \u001b[0;36mconvert_to_sparse_arff\u001b[1;34m(input_path, output_path)\u001b[0m\n\u001b[0;32m     25\u001b[0m \u001b[38;5;28;01mdef\u001b[39;00m \u001b[38;5;21mconvert_to_sparse_arff\u001b[39m(input_path, output_path):\n\u001b[0;32m     26\u001b[0m     transactions \u001b[38;5;241m=\u001b[39m read_input_file(input_path)\n\u001b[1;32m---> 27\u001b[0m     \u001b[43mcreate_sparse_arff\u001b[49m\u001b[43m(\u001b[49m\u001b[43mtransactions\u001b[49m\u001b[43m,\u001b[49m\u001b[43m \u001b[49m\u001b[43moutput_path\u001b[49m\u001b[43m)\u001b[49m\n",
      "Cell \u001b[1;32mIn[2], line 22\u001b[0m, in \u001b[0;36mcreate_sparse_arff\u001b[1;34m(transactions, output_path)\u001b[0m\n\u001b[0;32m     19\u001b[0m \u001b[38;5;66;03m# Write data (sparse representation)\u001b[39;00m\n\u001b[0;32m     20\u001b[0m \u001b[38;5;28;01mfor\u001b[39;00m transaction \u001b[38;5;129;01min\u001b[39;00m transactions:\n\u001b[0;32m     21\u001b[0m     \u001b[38;5;66;03m# Create a binary vector representing the transaction\u001b[39;00m\n\u001b[1;32m---> 22\u001b[0m     binary_vector \u001b[38;5;241m=\u001b[39m [\u001b[38;5;241m1\u001b[39m \u001b[38;5;28;01mif\u001b[39;00m item \u001b[38;5;129;01min\u001b[39;00m transaction \u001b[38;5;28;01melse\u001b[39;00m \u001b[38;5;241m0\u001b[39m \u001b[38;5;28;01mfor\u001b[39;00m item \u001b[38;5;129;01min\u001b[39;00m \u001b[38;5;28msorted\u001b[39m(items)]\n\u001b[0;32m     23\u001b[0m     arff_file\u001b[38;5;241m.\u001b[39mwrite(\u001b[38;5;124m'\u001b[39m\u001b[38;5;124m,\u001b[39m\u001b[38;5;124m'\u001b[39m\u001b[38;5;241m.\u001b[39mjoin(\u001b[38;5;28mmap\u001b[39m(\u001b[38;5;28mstr\u001b[39m, binary_vector)) \u001b[38;5;241m+\u001b[39m \u001b[38;5;124m'\u001b[39m\u001b[38;5;130;01m\\n\u001b[39;00m\u001b[38;5;124m'\u001b[39m)\n",
      "\u001b[1;31mKeyboardInterrupt\u001b[0m: "
     ]
    }
   ],
   "source": [
    "input_file = \"kosarak.dat\"\n",
    "output_file = \"kosarak.arff\"\n",
    "convert_to_sparse_arff(input_file, output_file)"
   ]
  },
  {
   "cell_type": "code",
   "execution_count": null,
   "metadata": {},
   "outputs": [],
   "source": []
  }
 ],
 "metadata": {
  "kernelspec": {
   "display_name": "Python 3",
   "language": "python",
   "name": "python3"
  },
  "language_info": {
   "codemirror_mode": {
    "name": "ipython",
    "version": 3
   },
   "file_extension": ".py",
   "mimetype": "text/x-python",
   "name": "python",
   "nbconvert_exporter": "python",
   "pygments_lexer": "ipython3",
   "version": "3.13.1"
  }
 },
 "nbformat": 4,
 "nbformat_minor": 2
}
